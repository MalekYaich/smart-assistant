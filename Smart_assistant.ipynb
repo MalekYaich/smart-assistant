{
  "nbformat": 4,
  "nbformat_minor": 0,
  "metadata": {
    "colab": {
      "provenance": []
    },
    "kernelspec": {
      "name": "python3",
      "display_name": "Python 3"
    },
    "language_info": {
      "name": "python"
    }
  },
  "cells": [
    {
      "cell_type": "markdown",
      "source": [
        "# I. Package Installation"
      ],
      "metadata": {
        "id": "E6gPU9Ey-A9P"
      }
    },
    {
      "cell_type": "code",
      "execution_count": null,
      "metadata": {
        "id": "4I56eJHlptdt"
      },
      "outputs": [],
      "source": [
        "!pip install llama-index==0.5.6\n",
        "!pip install langchain==0.0.148"
      ]
    },
    {
      "cell_type": "markdown",
      "source": [
        "# II. Importing libraries"
      ],
      "metadata": {
        "id": "IjCMK6zL-I_o"
      }
    },
    {
      "cell_type": "code",
      "source": [
        "from llama_index import SimpleDirectoryReader, GPTListIndex, readers, GPTSimpleVectorIndex, LLMPredictor, PromptHelper, ServiceContext\n",
        "from langchain import OpenAI\n",
        "import sys\n",
        "import os\n",
        "from IPython.display import Markdown, display"
      ],
      "metadata": {
        "id": "bLu0FYqfpvLe"
      },
      "execution_count": null,
      "outputs": []
    },
    {
      "cell_type": "code",
      "source": [
        "def construct_index(directory_path):\n",
        "\n",
        "    max_input_size = 4096\n",
        "    num_outputs = 2000\n",
        "    max_chunk_overlap = 20\n",
        "    chunk_size_limit = 600\n",
        "\n",
        "\n",
        "    prompt_helper = PromptHelper(max_input_size, num_outputs, max_chunk_overlap, chunk_size_limit=chunk_size_limit)\n",
        "    llm_predictor = LLMPredictor(llm=OpenAI(temperature=0.5, model_name=\"text-davinci-003\", max_tokens=num_outputs))\n",
        "\n",
        "    documents = SimpleDirectoryReader(directory_path).load_data()\n",
        "\n",
        "    service_context = ServiceContext.from_defaults(llm_predictor=llm_predictor, prompt_helper=prompt_helper)\n",
        "    index = GPTSimpleVectorIndex.from_documents(documents, service_context=service_context)\n",
        "    index.save_to_disk('index.json')\n",
        "\n",
        "    return index"
      ],
      "metadata": {
        "id": "qGRecly1p8ep"
      },
      "execution_count": null,
      "outputs": []
    },
    {
      "cell_type": "markdown",
      "source": [
        "You can get your OpenAI API key through this link: https://platform.openai.com/account/api-keys"
      ],
      "metadata": {
        "id": "Ss2V9T5Y_W8F"
      }
    },
    {
      "cell_type": "code",
      "source": [
        "os.environ[\"OPENAI_API_KEY\"] = \"YOUR_KEY\"\n"
      ],
      "metadata": {
        "id": "ZP7roASrTxDs"
      },
      "execution_count": null,
      "outputs": []
    },
    {
      "cell_type": "markdown",
      "source": [
        "Data is a folder that contains information or data files from which you want to extract information.\""
      ],
      "metadata": {
        "id": "GZIi_WkB_0d-"
      }
    },
    {
      "cell_type": "code",
      "source": [
        "construct_index(\"data\")"
      ],
      "metadata": {
        "id": "GedFQbV4qsm_",
        "colab": {
          "base_uri": "https://localhost:8080/"
        },
        "outputId": "b302978c-1be7-4cdf-f396-6725ddb13deb"
      },
      "execution_count": null,
      "outputs": [
        {
          "output_type": "execute_result",
          "data": {
            "text/plain": [
              "<llama_index.indices.vector_store.vector_indices.GPTSimpleVectorIndex at 0x79e9168e4460>"
            ]
          },
          "metadata": {},
          "execution_count": 5
        }
      ]
    },
    {
      "cell_type": "code",
      "source": [
        "def get_answer():\n",
        "    index = GPTSimpleVectorIndex.load_from_disk('index.json')\n",
        "    while True:\n",
        "        query = input(\"user: \")\n",
        "        response = index.query(query)\n",
        "        display(Markdown(f\"Response: <b>{response.response}</b>\"))"
      ],
      "metadata": {
        "id": "ahNRNZJjY56b"
      },
      "execution_count": null,
      "outputs": []
    },
    {
      "cell_type": "code",
      "source": [
        "get_answer()"
      ],
      "metadata": {
        "id": "QO7gHBoWY1pd"
      },
      "execution_count": null,
      "outputs": []
    }
  ]
}